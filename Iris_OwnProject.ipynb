{
  "nbformat": 4,
  "nbformat_minor": 0,
  "metadata": {
    "colab": {
      "name": "Iris_OwnProject",
      "provenance": []
    },
    "kernelspec": {
      "name": "python3",
      "display_name": "Python 3"
    },
    "language_info": {
      "name": "python"
    }
  },
  "cells": [
    {
      "cell_type": "code",
      "metadata": {
        "id": "giUJpTs4iMLw"
      },
      "source": [
        "# Install sklearn and from sklearn library import iris dataset\n",
        "# Load_iris is a function provided to us from sklearn library\n",
        "from sklearn.datasets import load_iris\n"
      ],
      "execution_count": 3,
      "outputs": []
    },
    {
      "cell_type": "code",
      "metadata": {
        "id": "PMhw0HpG6mA9"
      },
      "source": [
        "# Used to generate plots\n",
        "import matplotlib.pyplot as plt"
      ],
      "execution_count": 4,
      "outputs": []
    },
    {
      "cell_type": "code",
      "metadata": {
        "id": "cUGUmMLZrwek"
      },
      "source": [
        "# Used to split training and testing data\n",
        "from sklearn.model_selection import train_test_split"
      ],
      "execution_count": 5,
      "outputs": []
    },
    {
      "cell_type": "code",
      "metadata": {
        "id": "XTr4boj2rzVR"
      },
      "source": [
        "# Used for knn\n",
        "from sklearn.neighbors import KNeighborsClassifier\n",
        "import numpy as np"
      ],
      "execution_count": 6,
      "outputs": []
    },
    {
      "cell_type": "code",
      "metadata": {
        "id": "afmpRO_Er2et"
      },
      "source": [
        "# Storing iris dataset\n",
        "iris = load_iris()"
      ],
      "execution_count": 7,
      "outputs": []
    },
    {
      "cell_type": "code",
      "metadata": {
        "id": "keCDHmqZr6YF"
      },
      "source": [
        "# Transpose of the iris dataset to get each of the feature in separate lists\n",
        "features = iris.data.T\n",
        "\n",
        "# Storing each of the features into separate list\n",
        "sepal_length = features[0]\n",
        "sepal_width = features[1]\n",
        "petal_length = features[2]\n",
        "petal_width = features[3]"
      ],
      "execution_count": 8,
      "outputs": []
    },
    {
      "cell_type": "code",
      "metadata": {
        "id": "EIxoqZ-Cr897"
      },
      "source": [
        "# Storing each of the feature name from dictonary with key features_names\n",
        "sepal_length_label = iris.feature_names[0]\n",
        "sepal_width_label = iris.feature_names[1]\n",
        "petal_length_label = iris.feature_names[2]\n",
        "petal_length_label = iris.feature_names[3]"
      ],
      "execution_count": 9,
      "outputs": []
    },
    {
      "cell_type": "code",
      "metadata": {
        "colab": {
          "base_uri": "https://localhost:8080/",
          "height": 279
        },
        "id": "tXGacQBsr_Dw",
        "outputId": "4e0fe809-a195-43d8-955b-c94372d50832"
      },
      "source": [
        "# Plotting scatter plot \n",
        "plt.scatter(sepal_length,petal_length,c=iris.target)\n",
        "plt.xlabel(sepal_length_label)\n",
        "plt.ylabel(sepal_width_label)\n",
        "\n",
        "# Displaying scatter plot\n",
        "plt.show()"
      ],
      "execution_count": 10,
      "outputs": [
        {
          "output_type": "display_data",
          "data": {
            "image/png": "[encoded data removed]",
            "text/plain": [
              "<Figure size 432x288 with 1 Axes>"
            ]
          },
          "metadata": {
            "needs_background": "light"
          }
        }
      ]
    },
    {
      "cell_type": "code",
      "metadata": {
        "colab": {
          "base_uri": "https://localhost:8080/"
        },
        "id": "7DnzTSMxsCkB",
        "outputId": "a6e9b506-5dbf-496d-c1e2-3627a52e2721"
      },
      "source": [
        "# Spliting dataset into training and testing dataset\n",
        "# Use train/test split with different random state values\n",
        "# The accuracy changes a lot \n",
        "# This is why testing accuracy is a high-variance estimate\n",
        "X_train, X_test, y_train, y_test = train_test_split(iris.data, iris.target, random_state=0)\n",
        "\n",
        "# Classification with K=5\n",
        "knn = KNeighborsClassifier(n_neighbors=5)\n",
        "\n",
        "# Training the model\n",
        "knn.fit(X_train,y_train)\n",
        "\n",
        "# Reshaping as knn always takes 2D array as input\n",
        "# Imagine X_new has a new data point to be classified\n",
        "X_new = np.array([5,2.9,1,0.2]).reshape(1,-1)\n",
        "print(X_new.shape)\n"
      ],
      "execution_count": 11,
      "outputs": [
        {
          "output_type": "stream",
          "name": "stdout",
          "text": [
            "(1, 4)\n"
          ]
        }
      ]
    },
    {
      "cell_type": "code",
      "metadata": {
        "colab": {
          "base_uri": "https://localhost:8080/"
        },
        "id": "rzv4ju6JsLk8",
        "outputId": "4a56b170-31c6-400e-ed43-a05a063a8534"
      },
      "source": [
        "# Predicting target value for the new data point\n",
        "prediction = knn.predict(X_new)\n",
        "print(prediction)"
      ],
      "execution_count": 12,
      "outputs": [
        {
          "output_type": "stream",
          "name": "stdout",
          "text": [
            "[0]\n"
          ]
        }
      ]
    },
    {
      "cell_type": "code",
      "metadata": {
        "colab": {
          "base_uri": "https://localhost:8080/"
        },
        "id": "SPlRibmhuSW1",
        "outputId": "f06c5735-23c5-4305-e492-6a0ab567d691"
      },
      "source": [
        "# Printing the accuracy of the model\n",
        "print(knn.score(X_test,y_test))"
      ],
      "execution_count": 13,
      "outputs": [
        {
          "output_type": "stream",
          "name": "stdout",
          "text": [
            "0.9736842105263158\n"
          ]
        }
      ]
    },
    {
      "cell_type": "code",
      "metadata": {
        "id": "jq8pmz792U5V"
      },
      "source": [
        "# Cross-Validation for Parameter Tuning,Model Selection, and Feature Selection"
      ],
      "execution_count": 14,
      "outputs": []
    },
    {
      "cell_type": "code",
      "metadata": {
        "id": "VhB6DDGH9nw6"
      },
      "source": [
        "from sklearn import metrics"
      ],
      "execution_count": 15,
      "outputs": []
    },
    {
      "cell_type": "code",
      "metadata": {
        "id": "-etPdAl4-QNM"
      },
      "source": [
        "# What if we created a bunch of train/test splits, calculated the testin g accuracy for each, and averaged the results together? This is the essense of cross-validation\n",
        "# Steps for K-fold cross-validation\n",
        "# 1. Split the dataset into K equal partitions(or folds)\n",
        "        # So if k=5 and dataset has 150 observations\n",
        "        # Each of the 5 folds would have 30 observations\n",
        "# 2. Use fold 1 as the testing set and the union of the other folds as the training set\n",
        "        # Testing set = 30 observations(fold 1)\n",
        "        # Training set = 120 observations(fold 2-5)\n",
        "# 3. Calculate testing accuracy \n",
        "# 4. Repeat steps 2 and 3 K times, using different fold as the testing set each time \n",
        "        # We will repeat the process 5 times\n",
        "        # 2nd iteration \n",
        "            # fold 2 will be testing set \n",
        "            # union of fold 1,3,4 and 5 would be the training set\n",
        "\n",
        "            # and so on...\n",
        "            \n"
      ],
      "execution_count": 16,
      "outputs": []
    },
    {
      "cell_type": "code",
      "metadata": {
        "id": "IOEGtn4pWELT"
      },
      "source": [
        ""
      ],
      "execution_count": 16,
      "outputs": []
    }
  ]
}